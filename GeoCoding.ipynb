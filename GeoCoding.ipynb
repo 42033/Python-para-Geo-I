{
 "cells": [
  {
   "cell_type": "markdown",
   "metadata": {},
   "source": [
    "# Geocoding com geopandas & geopy"
   ]
  },
  {
   "cell_type": "markdown",
   "metadata": {},
   "source": [
    "Neste tutorial, vamos ver como realizar o *geocode* (obtenção dos pares de coordenadas a partir de endereços) para vários registros em uma tabela.\n",
    "Vamos usar o [pandas](https://pandas.pydata.org/pandas-docs/stable/index.html#) para carregar a tabela com os endereços, [Geopandas](https://geopandas.readthedocs.io/en/stable/) para acionar a biblioteca [geopy](https://geopy.readthedocs.io/en/stable/) que, por sua vez irá executar o geocode.\n",
    "Como exemplo usarei uma tabela com três registros de hoteis na cidade do Rio de Janeiro e, a partir de seus respectivos endereços obteremos suas localizações por pares de coordenadas. **[Baixar planilha usada no exemplo](https://github.com/FelipeSBarros/Python-para-Geo-I/blob/master/ListaEnderecos.csv)**;\n",
    "\n",
    "Aproveitando esse tema, vamos apresentar, na segunda parte deste tutorial como realizar o *geocode reverso* (obtenção do endereço a partir dos pares de coordenadas). Como não está implementado como ferramenta do geopandas, teremos que usar outros mecanismos, como a biblioteca [shapely](https://shapely.readthedocs.io/en/stable/) e, depois o **geopy**;\n",
    "\n",
    "Para o geocode, usaremos como provedor a **API** [Nominatim](https://wiki.openstreetmap.org/wiki/Nominatim), do **Open Street Map**."
   ]
  },
  {
   "cell_type": "markdown",
   "metadata": {},
   "source": [
    "## 1. Geocoding"
   ]
  },
  {
   "cell_type": "markdown",
   "metadata": {},
   "source": [
    "### Importando as bibliotecas"
   ]
  },
  {
   "cell_type": "code",
   "execution_count": 1,
   "metadata": {},
   "outputs": [],
   "source": [
    "import geopandas as gpds\n",
    "import pandas as pds # Para carregar a planilha com os endereços"
   ]
  },
  {
   "cell_type": "code",
   "execution_count": 2,
   "metadata": {},
   "outputs": [
    {
     "data": {
      "text/html": [
       "<div>\n",
       "<table border=\"1\" class=\"dataframe\">\n",
       "  <thead>\n",
       "    <tr style=\"text-align: right;\">\n",
       "      <th></th>\n",
       "      <th>address</th>\n",
       "      <th>geometry</th>\n",
       "    </tr>\n",
       "  </thead>\n",
       "  <tbody>\n",
       "    <tr>\n",
       "      <th>0</th>\n",
       "      <td>Rio de Janeiro, Microrregião Rio de Janeiro, R...</td>\n",
       "      <td>POINT (-43.2093727 -22.9110137)</td>\n",
       "    </tr>\n",
       "  </tbody>\n",
       "</table>\n",
       "</div>"
      ],
      "text/plain": [
       "                                             address  \\\n",
       "0  Rio de Janeiro, Microrregião Rio de Janeiro, R...   \n",
       "\n",
       "                          geometry  \n",
       "0  POINT (-43.2093727 -22.9110137)  "
      ]
     },
     "execution_count": 2,
     "metadata": {},
     "output_type": "execute_result"
    }
   ],
   "source": [
    "gpds.tools.geocode(\"Rio de Janeiro, RJ\", provider = \"nominatim\", user_agent=\"Intro Geocode\")"
   ]
  },
  {
   "cell_type": "code",
   "execution_count": 3,
   "metadata": {},
   "outputs": [
    {
     "data": {
      "text/html": [
       "<div>\n",
       "<table border=\"1\" class=\"dataframe\">\n",
       "  <thead>\n",
       "    <tr style=\"text-align: right;\">\n",
       "      <th></th>\n",
       "      <th>Hotel</th>\n",
       "      <th>Endereco</th>\n",
       "    </tr>\n",
       "  </thead>\n",
       "  <tbody>\n",
       "    <tr>\n",
       "      <th>0</th>\n",
       "      <td>Copacabana Palace</td>\n",
       "      <td>Avenida Atlântica, 1702, Copacabana - Rio de J...</td>\n",
       "    </tr>\n",
       "    <tr>\n",
       "      <th>1</th>\n",
       "      <td>Hotel Marina</td>\n",
       "      <td>Avenida Delfim Moreira 696, Leblon - Rio de Ja...</td>\n",
       "    </tr>\n",
       "    <tr>\n",
       "      <th>2</th>\n",
       "      <td>Windsor</td>\n",
       "      <td>Avenida Atlantica, 1020, Copacabana – Rio de J...</td>\n",
       "    </tr>\n",
       "  </tbody>\n",
       "</table>\n",
       "</div>"
      ],
      "text/plain": [
       "               Hotel                                           Endereco\n",
       "0  Copacabana Palace  Avenida Atlântica, 1702, Copacabana - Rio de J...\n",
       "1       Hotel Marina  Avenida Delfim Moreira 696, Leblon - Rio de Ja...\n",
       "2            Windsor  Avenida Atlantica, 1020, Copacabana – Rio de J..."
      ]
     },
     "execution_count": 3,
     "metadata": {},
     "output_type": "execute_result"
    }
   ],
   "source": [
    "end = pds.read_csv(\"./ListaEnderecos.csv\", encoding='UTF8')\n",
    "end"
   ]
  },
  {
   "cell_type": "code",
   "execution_count": 4,
   "metadata": {},
   "outputs": [
    {
     "data": {
      "text/html": [
       "<div>\n",
       "<table border=\"1\" class=\"dataframe\">\n",
       "  <thead>\n",
       "    <tr style=\"text-align: right;\">\n",
       "      <th></th>\n",
       "      <th>address</th>\n",
       "      <th>geometry</th>\n",
       "    </tr>\n",
       "  </thead>\n",
       "  <tbody>\n",
       "    <tr>\n",
       "      <th>0</th>\n",
       "      <td>Copacabana Palace, 1702, Avenida Atlântica, Co...</td>\n",
       "      <td>POINT (-43.1790751 -22.9670027)</td>\n",
       "    </tr>\n",
       "    <tr>\n",
       "      <th>1</th>\n",
       "      <td>696, Avenida Delfim Moreira, Leblon, Zona Sul ...</td>\n",
       "      <td>POINT (-43.222646 -22.9869118)</td>\n",
       "    </tr>\n",
       "    <tr>\n",
       "      <th>2</th>\n",
       "      <td>Avenida Atlântica, Copacabana, Zona Sul do Rio...</td>\n",
       "      <td>POINT (-43.189305 -22.984457)</td>\n",
       "    </tr>\n",
       "  </tbody>\n",
       "</table>\n",
       "</div>"
      ],
      "text/plain": [
       "                                             address  \\\n",
       "0  Copacabana Palace, 1702, Avenida Atlântica, Co...   \n",
       "1  696, Avenida Delfim Moreira, Leblon, Zona Sul ...   \n",
       "2  Avenida Atlântica, Copacabana, Zona Sul do Rio...   \n",
       "\n",
       "                          geometry  \n",
       "0  POINT (-43.1790751 -22.9670027)  \n",
       "1   POINT (-43.222646 -22.9869118)  \n",
       "2    POINT (-43.189305 -22.984457)  "
      ]
     },
     "execution_count": 4,
     "metadata": {},
     "output_type": "execute_result"
    }
   ],
   "source": [
    "gpds.tools.geocode(end[\"Endereco\"], provider = \"nominatim\", user_agent=\"Intro Geocode\", country_bias=\"Brazil\")"
   ]
  },
  {
   "cell_type": "code",
   "execution_count": 5,
   "metadata": {},
   "outputs": [],
   "source": [
    "end[\"Geom\"] = gpds.tools.geocode(end[\"Endereco\"], provider = \"nominatim\", user_agent=\"Intro Geocode\", country_bias=\"Brazil\")[\"geometry\"]"
   ]
  },
  {
   "cell_type": "code",
   "execution_count": 6,
   "metadata": {},
   "outputs": [
    {
     "data": {
      "text/html": [
       "<div>\n",
       "<table border=\"1\" class=\"dataframe\">\n",
       "  <thead>\n",
       "    <tr style=\"text-align: right;\">\n",
       "      <th></th>\n",
       "      <th>Hotel</th>\n",
       "      <th>Endereco</th>\n",
       "      <th>Geom</th>\n",
       "    </tr>\n",
       "  </thead>\n",
       "  <tbody>\n",
       "    <tr>\n",
       "      <th>0</th>\n",
       "      <td>Copacabana Palace</td>\n",
       "      <td>Avenida Atlântica, 1702, Copacabana - Rio de J...</td>\n",
       "      <td>POINT (-43.1790751 -22.9670027)</td>\n",
       "    </tr>\n",
       "    <tr>\n",
       "      <th>1</th>\n",
       "      <td>Hotel Marina</td>\n",
       "      <td>Avenida Delfim Moreira 696, Leblon - Rio de Ja...</td>\n",
       "      <td>POINT (-43.222646 -22.9869118)</td>\n",
       "    </tr>\n",
       "    <tr>\n",
       "      <th>2</th>\n",
       "      <td>Windsor</td>\n",
       "      <td>Avenida Atlantica, 1020, Copacabana – Rio de J...</td>\n",
       "      <td>POINT (-43.189305 -22.984457)</td>\n",
       "    </tr>\n",
       "  </tbody>\n",
       "</table>\n",
       "</div>"
      ],
      "text/plain": [
       "               Hotel                                           Endereco  \\\n",
       "0  Copacabana Palace  Avenida Atlântica, 1702, Copacabana - Rio de J...   \n",
       "1       Hotel Marina  Avenida Delfim Moreira 696, Leblon - Rio de Ja...   \n",
       "2            Windsor  Avenida Atlantica, 1020, Copacabana – Rio de J...   \n",
       "\n",
       "                              Geom  \n",
       "0  POINT (-43.1790751 -22.9670027)  \n",
       "1   POINT (-43.222646 -22.9869118)  \n",
       "2    POINT (-43.189305 -22.984457)  "
      ]
     },
     "execution_count": 6,
     "metadata": {},
     "output_type": "execute_result"
    }
   ],
   "source": [
    "end.head()"
   ]
  },
  {
   "cell_type": "code",
   "execution_count": 7,
   "metadata": {},
   "outputs": [
    {
     "data": {
      "text/plain": [
       "0    POINT (-43.1790751 -22.9670027)\n",
       "1     POINT (-43.222646 -22.9869118)\n",
       "2      POINT (-43.189305 -22.984457)\n",
       "Name: Geom, dtype: object"
      ]
     },
     "execution_count": 7,
     "metadata": {},
     "output_type": "execute_result"
    }
   ],
   "source": [
    "end.Geom"
   ]
  },
  {
   "cell_type": "markdown",
   "metadata": {},
   "source": [
    "## Geocode reverso"
   ]
  },
  {
   "cell_type": "code",
   "execution_count": 8,
   "metadata": {},
   "outputs": [],
   "source": [
    "import shapely.geometry\n",
    "import geopy"
   ]
  },
  {
   "cell_type": "code",
   "execution_count": 9,
   "metadata": {},
   "outputs": [
    {
     "data": {
      "text/plain": [
       "-43.1790751"
      ]
     },
     "execution_count": 9,
     "metadata": {},
     "output_type": "execute_result"
    }
   ],
   "source": [
    "end[\"Geom\"][0].x"
   ]
  },
  {
   "cell_type": "code",
   "execution_count": 10,
   "metadata": {},
   "outputs": [
    {
     "data": {
      "text/plain": [
       "-22.9670027"
      ]
     },
     "execution_count": 10,
     "metadata": {},
     "output_type": "execute_result"
    }
   ],
   "source": [
    "end[\"Geom\"][0].y"
   ]
  },
  {
   "cell_type": "code",
   "execution_count": 11,
   "metadata": {},
   "outputs": [
    {
     "data": {
      "text/plain": [
       "Location(Copacabana Palace, 1702, Avenida Atlântica, Copacabana, Zona Sul do Rio de Janeiro, Rio de Janeiro, Microrregião Rio de Janeiro, Região Metropolitana do Rio de Janeiro, RJ, Região Sudeste, 22021-001, Brasil, (-22.9670027, -43.1790751, 0.0))"
      ]
     },
     "execution_count": 11,
     "metadata": {},
     "output_type": "execute_result"
    }
   ],
   "source": [
    "geopy.geocoders.osm.Nominatim(user_agent=\"Intro Geocode\").reverse(str(end[\"Geom\"][0].y) + \", \" + str(end[\"Geom\"][0].x))"
   ]
  },
  {
   "cell_type": "code",
   "execution_count": 12,
   "metadata": {},
   "outputs": [],
   "source": [
    "end[\"y\"] = end[\"Geom\"].map(lambda p: p.y)\n",
    "end[\"x\"] = end[\"Geom\"].map(lambda p: p.x)\n",
    "end[\"yx\"] = end[\"Geom\"].map(lambda p: str(p.y) + \", \" + str(p.x))"
   ]
  },
  {
   "cell_type": "code",
   "execution_count": 13,
   "metadata": {},
   "outputs": [
    {
     "data": {
      "text/html": [
       "<div>\n",
       "<table border=\"1\" class=\"dataframe\">\n",
       "  <thead>\n",
       "    <tr style=\"text-align: right;\">\n",
       "      <th></th>\n",
       "      <th>Hotel</th>\n",
       "      <th>Endereco</th>\n",
       "      <th>Geom</th>\n",
       "      <th>y</th>\n",
       "      <th>x</th>\n",
       "      <th>yx</th>\n",
       "    </tr>\n",
       "  </thead>\n",
       "  <tbody>\n",
       "    <tr>\n",
       "      <th>0</th>\n",
       "      <td>Copacabana Palace</td>\n",
       "      <td>Avenida Atlântica, 1702, Copacabana - Rio de J...</td>\n",
       "      <td>POINT (-43.1790751 -22.9670027)</td>\n",
       "      <td>-22.967003</td>\n",
       "      <td>-43.179075</td>\n",
       "      <td>-22.9670027, -43.1790751</td>\n",
       "    </tr>\n",
       "    <tr>\n",
       "      <th>1</th>\n",
       "      <td>Hotel Marina</td>\n",
       "      <td>Avenida Delfim Moreira 696, Leblon - Rio de Ja...</td>\n",
       "      <td>POINT (-43.222646 -22.9869118)</td>\n",
       "      <td>-22.986912</td>\n",
       "      <td>-43.222646</td>\n",
       "      <td>-22.9869118, -43.222646</td>\n",
       "    </tr>\n",
       "    <tr>\n",
       "      <th>2</th>\n",
       "      <td>Windsor</td>\n",
       "      <td>Avenida Atlantica, 1020, Copacabana – Rio de J...</td>\n",
       "      <td>POINT (-43.189305 -22.984457)</td>\n",
       "      <td>-22.984457</td>\n",
       "      <td>-43.189305</td>\n",
       "      <td>-22.984457, -43.189305</td>\n",
       "    </tr>\n",
       "  </tbody>\n",
       "</table>\n",
       "</div>"
      ],
      "text/plain": [
       "               Hotel                                           Endereco  \\\n",
       "0  Copacabana Palace  Avenida Atlântica, 1702, Copacabana - Rio de J...   \n",
       "1       Hotel Marina  Avenida Delfim Moreira 696, Leblon - Rio de Ja...   \n",
       "2            Windsor  Avenida Atlantica, 1020, Copacabana – Rio de J...   \n",
       "\n",
       "                              Geom          y          x  \\\n",
       "0  POINT (-43.1790751 -22.9670027) -22.967003 -43.179075   \n",
       "1   POINT (-43.222646 -22.9869118) -22.986912 -43.222646   \n",
       "2    POINT (-43.189305 -22.984457) -22.984457 -43.189305   \n",
       "\n",
       "                         yx  \n",
       "0  -22.9670027, -43.1790751  \n",
       "1   -22.9869118, -43.222646  \n",
       "2    -22.984457, -43.189305  "
      ]
     },
     "execution_count": 13,
     "metadata": {},
     "output_type": "execute_result"
    }
   ],
   "source": [
    "end.head()"
   ]
  },
  {
   "cell_type": "code",
   "execution_count": 14,
   "metadata": {},
   "outputs": [
    {
     "data": {
      "text/plain": [
       "Location(Copacabana Palace, 1702, Avenida Atlântica, Copacabana, Zona Sul do Rio de Janeiro, Rio de Janeiro, Microrregião Rio de Janeiro, Região Metropolitana do Rio de Janeiro, RJ, Região Sudeste, 22021-001, Brasil, (-22.9670027, -43.1790751, 0.0))"
      ]
     },
     "execution_count": 14,
     "metadata": {},
     "output_type": "execute_result"
    }
   ],
   "source": [
    "geopy.geocoders.osm.Nominatim(user_agent=\"Intro Geocode\").reverse(end[0:1][\"yx\"])"
   ]
  },
  {
   "cell_type": "code",
   "execution_count": 15,
   "metadata": {},
   "outputs": [],
   "source": [
    "end['RevAddress'] = end.apply(lambda row: geopy.geocoders.osm.Nominatim(user_agent=\"Intro Geocode\").reverse(row['yx']),axis=1)"
   ]
  },
  {
   "cell_type": "code",
   "execution_count": 16,
   "metadata": {},
   "outputs": [
    {
     "data": {
      "text/html": [
       "<div>\n",
       "<table border=\"1\" class=\"dataframe\">\n",
       "  <thead>\n",
       "    <tr style=\"text-align: right;\">\n",
       "      <th></th>\n",
       "      <th>Hotel</th>\n",
       "      <th>Endereco</th>\n",
       "      <th>Geom</th>\n",
       "      <th>y</th>\n",
       "      <th>x</th>\n",
       "      <th>yx</th>\n",
       "      <th>RevAddress</th>\n",
       "    </tr>\n",
       "  </thead>\n",
       "  <tbody>\n",
       "    <tr>\n",
       "      <th>0</th>\n",
       "      <td>Copacabana Palace</td>\n",
       "      <td>Avenida Atlântica, 1702, Copacabana - Rio de J...</td>\n",
       "      <td>POINT (-43.1790751 -22.9670027)</td>\n",
       "      <td>-22.967003</td>\n",
       "      <td>-43.179075</td>\n",
       "      <td>-22.9670027, -43.1790751</td>\n",
       "      <td>(Copacabana Palace, 1702, Avenida Atlântica, C...</td>\n",
       "    </tr>\n",
       "    <tr>\n",
       "      <th>1</th>\n",
       "      <td>Hotel Marina</td>\n",
       "      <td>Avenida Delfim Moreira 696, Leblon - Rio de Ja...</td>\n",
       "      <td>POINT (-43.222646 -22.9869118)</td>\n",
       "      <td>-22.986912</td>\n",
       "      <td>-43.222646</td>\n",
       "      <td>-22.9869118, -43.222646</td>\n",
       "      <td>(696, Avenida Delfim Moreira, Leblon, Zona Sul...</td>\n",
       "    </tr>\n",
       "    <tr>\n",
       "      <th>2</th>\n",
       "      <td>Windsor</td>\n",
       "      <td>Avenida Atlantica, 1020, Copacabana – Rio de J...</td>\n",
       "      <td>POINT (-43.189305 -22.984457)</td>\n",
       "      <td>-22.984457</td>\n",
       "      <td>-43.189305</td>\n",
       "      <td>-22.984457, -43.189305</td>\n",
       "      <td>(Petrobras, Avenida Atlântica, Copacabana, Zon...</td>\n",
       "    </tr>\n",
       "  </tbody>\n",
       "</table>\n",
       "</div>"
      ],
      "text/plain": [
       "               Hotel                                           Endereco  \\\n",
       "0  Copacabana Palace  Avenida Atlântica, 1702, Copacabana - Rio de J...   \n",
       "1       Hotel Marina  Avenida Delfim Moreira 696, Leblon - Rio de Ja...   \n",
       "2            Windsor  Avenida Atlantica, 1020, Copacabana – Rio de J...   \n",
       "\n",
       "                              Geom          y          x  \\\n",
       "0  POINT (-43.1790751 -22.9670027) -22.967003 -43.179075   \n",
       "1   POINT (-43.222646 -22.9869118) -22.986912 -43.222646   \n",
       "2    POINT (-43.189305 -22.984457) -22.984457 -43.189305   \n",
       "\n",
       "                         yx                                         RevAddress  \n",
       "0  -22.9670027, -43.1790751  (Copacabana Palace, 1702, Avenida Atlântica, C...  \n",
       "1   -22.9869118, -43.222646  (696, Avenida Delfim Moreira, Leblon, Zona Sul...  \n",
       "2    -22.984457, -43.189305  (Petrobras, Avenida Atlântica, Copacabana, Zon...  "
      ]
     },
     "execution_count": 16,
     "metadata": {},
     "output_type": "execute_result"
    }
   ],
   "source": [
    "end.head()"
   ]
  },
  {
   "cell_type": "markdown",
   "metadata": {},
   "source": [
    "## Geocoders disponíveis"
   ]
  },
  {
   "cell_type": "code",
   "execution_count": 17,
   "metadata": {},
   "outputs": [
    {
     "data": {
      "text/plain": [
       "{'arcgis': geopy.geocoders.arcgis.ArcGIS,\n",
       " 'azure': geopy.geocoders.azure.AzureMaps,\n",
       " 'baidu': geopy.geocoders.baidu.Baidu,\n",
       " 'bing': geopy.geocoders.bing.Bing,\n",
       " 'databc': geopy.geocoders.databc.DataBC,\n",
       " 'geocodeearth': geopy.geocoders.geocodeearth.GeocodeEarth,\n",
       " 'geocodefarm': geopy.geocoders.geocodefarm.GeocodeFarm,\n",
       " 'geonames': geopy.geocoders.geonames.GeoNames,\n",
       " 'google': geopy.geocoders.googlev3.GoogleV3,\n",
       " 'googlev3': geopy.geocoders.googlev3.GoogleV3,\n",
       " 'here': geopy.geocoders.here.Here,\n",
       " 'ignfrance': geopy.geocoders.ignfrance.IGNFrance,\n",
       " 'liveaddress': geopy.geocoders.smartystreets.LiveAddress,\n",
       " 'mapbox': geopy.geocoders.mapbox.MapBox,\n",
       " 'nominatim': geopy.geocoders.osm.Nominatim,\n",
       " 'opencage': geopy.geocoders.opencage.OpenCage,\n",
       " 'openmapquest': geopy.geocoders.openmapquest.OpenMapQuest,\n",
       " 'pelias': geopy.geocoders.pelias.Pelias,\n",
       " 'photon': geopy.geocoders.photon.Photon,\n",
       " 'pickpoint': geopy.geocoders.pickpoint.PickPoint,\n",
       " 'tomtom': geopy.geocoders.tomtom.TomTom,\n",
       " 'what3words': geopy.geocoders.what3words.What3Words,\n",
       " 'yandex': geopy.geocoders.yandex.Yandex}"
      ]
     },
     "execution_count": 17,
     "metadata": {},
     "output_type": "execute_result"
    }
   ],
   "source": [
    "geopy.geocoders.SERVICE_TO_GEOCODER"
   ]
  },
  {
   "cell_type": "code",
   "execution_count": null,
   "metadata": {},
   "outputs": [],
   "source": []
  }
 ],
 "metadata": {
  "kernelspec": {
   "display_name": "Python 3",
   "language": "python",
   "name": "python3"
  },
  "language_info": {
   "codemirror_mode": {
    "name": "ipython",
    "version": 3
   },
   "file_extension": ".py",
   "mimetype": "text/x-python",
   "name": "python",
   "nbconvert_exporter": "python",
   "pygments_lexer": "ipython3",
   "version": "3.5.2"
  }
 },
 "nbformat": 4,
 "nbformat_minor": 2
}
